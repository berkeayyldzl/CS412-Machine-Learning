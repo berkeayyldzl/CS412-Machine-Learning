{
 "cells": [
  {
   "cell_type": "markdown",
   "metadata": {},
   "source": [
    " <span style=\"color:orange;font-size:20pt;font-weight:bold\">CS412 - Machine Learning - Homework 2 - Berke Ayyıldızlı - 31018</span>"
   ]
  },
  {
   "cell_type": "markdown",
   "metadata": {},
   "source": [
    "<span style=\"color:red;font-weight:bold\">Required Libraries</span>"
   ]
  },
  {
   "cell_type": "code",
   "execution_count": 1,
   "metadata": {},
   "outputs": [],
   "source": [
    "import numpy as np #for the calculations\n",
    "import pandas as pd #to see the dataset better"
   ]
  },
  {
   "cell_type": "markdown",
   "metadata": {},
   "source": [
    "<span style=\"font-size:14pt;\">Q2. Probability and Bayes’ Theorem: Kaggle ML & DS Survey</span>"
   ]
  },
  {
   "cell_type": "markdown",
   "metadata": {},
   "source": [
    "Dataset: 2017 Kaggle Machine Learning (ML) & Data Science (DS) Survey comprises over 16,000\n",
    "responses from Kaggle’s industry-wide survey on the state of data science and machine learning. The dataset,\n",
    "provided to you as cs412-hw2-data.zip, has 5 files:\n",
    "\n",
    "• schema.csv: a CSV file with survey schema. This schema includes the questions that correspond to\n",
    "each column name in both the multipleChoiceResponses.csv and freeformResponses.csv.\n",
    "\n",
    "• multipleChoiceResponses.csv: Respondents’ answers to multiple choice and ranking questions.\n",
    "These are non-randomized and thus a single row does correspond to all of a single user’s answers.\n",
    "\n",
    "• freeformResponses.csv: Respondents’ freeform answers to Kaggle’s survey questions. These\n",
    "responses are randomized within a column, so that reading across a single row does not give a single\n",
    "user’s answers.\n",
    "\n",
    "• conversionRates.csv: Currency conversion rates (to USD).\n",
    "\n",
    "• RespondentTypeREADME.txt: This is a schema for decoding the responses in the ”Asked” column\n",
    "of the schema.csv file."
   ]
  },
  {
   "cell_type": "markdown",
   "metadata": {},
   "source": [
    "Using the .csv files from cs412-hw2-data.zip, answer the following questions on Jupyter Notebook or\n",
    "Google Colab. You do not need to add your answers to the pdf. Use a separate cell for your\n",
    "code/answer for each question. You do not need to use any machine learning libraries, once you have loaded\n",
    "the data you can answer all questions via Pandas and/or NumPy methods."
   ]
  },
  {
   "cell_type": "markdown",
   "metadata": {},
   "source": [
    "<span style=\"color:red;font-weight:bold\">Reading Required Files</span>"
   ]
  },
  {
   "cell_type": "code",
   "execution_count": 2,
   "metadata": {},
   "outputs": [],
   "source": [
    "#since schema, freeform responses and respondent type readme is not used during the homework, i am not reading them\n",
    "questions_dataframe = pd.read_csv('multipleChoiceResponses.csv', encoding='ISO-8859-1', low_memory=False) #changed encoding and memory settings bc i kept getting errors.\n",
    "currency_dataframe = pd.read_csv('conversionRates.csv', index_col=0) #deleted the index column because it was appeared as blank after transforming"
   ]
  },
  {
   "cell_type": "markdown",
   "metadata": {},
   "source": [
    "<span style=\"color:red;\">Q2.a:</span>  [5 pts] What is the probability that a respondent is currently employed as a Programmer given they\n",
    "use C/C++ at work?"
   ]
  },
  {
   "cell_type": "code",
   "execution_count": 3,
   "metadata": {},
   "outputs": [
    {
     "name": "stdout",
     "output_type": "stream",
     "text": [
      "0.09140942809284518\n",
      "The probability of being employed as a Programmer (P(A)): 2.76%\n",
      "The probability that a respondent is currently employed as a programmer given they use c/c++ at work: 2.23%\n"
     ]
    }
   ],
   "source": [
    "#i first filtered the users who uses c/c++ on their work, dropped the not-applicables.\n",
    "c_language_users = questions_dataframe[questions_dataframe['WorkToolsSelect'].str.contains('C/C++', na=False)]\n",
    "\n",
    "# then from the users who uses c/c++ on their work, i find the number of the \"programmers\".\n",
    "employed_as_programmers = c_language_users[c_language_users['CurrentJobTitleSelect'].str.contains('Programmer', na=False)]\n",
    "probability = len(employed_as_programmers) / len(c_language_users) #calculated the probability\n",
    "\n",
    "########################## This part is for question Q2.g ###################################\n",
    "print(len(c_language_users)/len(questions_dataframe)) #p(B)\n",
    "all_programmers = questions_dataframe[questions_dataframe['CurrentJobTitleSelect'].str.contains('Programmer', na=False)]\n",
    "Pa = len(all_programmers) / len(questions_dataframe)\n",
    "\n",
    "# Print P(A)\n",
    "print(f\"The probability of being employed as a Programmer (P(A)): {Pa:.2%}\")\n",
    "########################## This part is for question Q2.g ###################################\n",
    "\n",
    "print(f\"The probability that a respondent is currently employed as a programmer given they use c/c++ at work: {probability:.2%}\")#P(A|B)\n"
   ]
  },
  {
   "cell_type": "markdown",
   "metadata": {},
   "source": [
    "<span style=\"color:red\">Q2.b:</span>  [5 pts] What is the probability that a respondent is a Data Scientist given they have majored in\n",
    "computer science, mathematics or statistics?"
   ]
  },
  {
   "cell_type": "code",
   "execution_count": 4,
   "metadata": {},
   "outputs": [
    {
     "name": "stdout",
     "output_type": "stream",
     "text": [
      "The probability that a respondent is a Data Scientist given they majored in computer science, mathematics or statistics is: 15.97%\n"
     ]
    }
   ],
   "source": [
    "# first i filtered the people majored in the wanted areas\n",
    "majors = questions_dataframe[questions_dataframe['MajorSelect'].isin(['Computer Science', 'Mathematics or statistics'])]#p(b)\n",
    "\n",
    "#then i selected the data scientists that are majored in these areas\n",
    "data_scientists = majors[majors['CurrentJobTitleSelect'].str.contains('Data Scientist', na=False)]#p(a)\n",
    "probability = len(data_scientists) / len(majors) #calculated the probability p(a|b)\n",
    "\n",
    "print(f\"The probability that a respondent is a Data Scientist given they majored in computer science, mathematics or statistics is: {probability:.2%}\")\n"
   ]
  },
  {
   "cell_type": "markdown",
   "metadata": {},
   "source": [
    "<span style=\"color:red\">Q2.c:</span>  [10 pts] What is the probability that a respondent works in the Technology industry given that\n",
    "they earn more than 40,000 USD annually?"
   ]
  },
  {
   "cell_type": "code",
   "execution_count": 5,
   "metadata": {},
   "outputs": [
    {
     "name": "stdout",
     "output_type": "stream",
     "text": [
      "The probability that a respondent works in the Technology industry given they earn more than 40,000 USD annually is: 19.63%\n"
     ]
    }
   ],
   "source": [
    "#first i merged the 2 dataframes, took CompensationCurrency from questions df and origin country from the currencies, used all the entries from the left database.\n",
    "merged_dataframe = pd.merge(questions_dataframe, currency_dataframe, left_on='CompensationCurrency', right_on='originCountry', how='left')\n",
    "\n",
    "# they earn more than 40k = p(a)\n",
    "# they work in tech = p(b)\n",
    "\n",
    "#some values had commas and lines, also coerced the errors bc some entries cannot be converted. Also without regular expressions, i got a warning.\n",
    "merged_dataframe['CompensationAmount'] = pd.to_numeric(merged_dataframe['CompensationAmount'].replace(',', regex=True).replace('-', np.nan, regex=True), errors='coerce')\n",
    "merged_dataframe['SalaryUSD'] = merged_dataframe['CompensationAmount'].astype(float) * merged_dataframe['exchangeRate'] #converted all salaries to usd here.\n",
    "\n",
    "#here, i first found the amount of respondents who worked in the technology with more than 40k usd and divided it to all the respondents who earned 40k.\n",
    "probability = len(merged_dataframe[merged_dataframe['SalaryUSD'] > 40000]\n",
    "                  [merged_dataframe[merged_dataframe['SalaryUSD'] > 40000]\n",
    "                   ['EmployerIndustry'] == 'Technology']) / len(merged_dataframe\n",
    "                                                                [merged_dataframe['SalaryUSD'] > 40000]) #result of p(b|a)\n",
    "\n",
    "print(f\"The probability that a respondent works in the Technology industry given they earn more than 40,000 USD annually is: {probability:.2%}\")\n"
   ]
  },
  {
   "cell_type": "markdown",
   "metadata": {},
   "source": [
    "<span style=\"color:red\">Q2.d:</span> [5 pts] What is the joint probability of a respondent being over 30 years old and having a at\n",
    "least a Bachelor’s degree?"
   ]
  },
  {
   "cell_type": "code",
   "execution_count": 6,
   "metadata": {},
   "outputs": [
    {
     "name": "stdout",
     "output_type": "stream",
     "text": [
      "[\"Bachelor's degree\" \"Master's degree\" 'Doctoral degree' nan\n",
      " \"Some college/university study without earning a bachelor's degree\"\n",
      " 'I did not complete any formal education past high school'\n",
      " 'Professional degree' 'I prefer not to answer']\n"
     ]
    }
   ],
   "source": [
    "#i wanted to see how many education levels there are in the column name:\n",
    "print(questions_dataframe['FormalEducation'].unique())\n"
   ]
  },
  {
   "cell_type": "code",
   "execution_count": 7,
   "metadata": {},
   "outputs": [
    {
     "name": "stdout",
     "output_type": "stream",
     "text": [
      "The joint probability of a respondent being over 30 years old and having at least a bachelors degree is: 12.81%\n"
     ]
    }
   ],
   "source": [
    "#took the respondents who are over 30 and has at least a bachelor degree:\n",
    "#p(a) = who are over 30\n",
    "#p(b) = at least has a bachelor's\n",
    "#p(a^b) = (i mean a and b, not a over b)\n",
    "both_criteria = questions_dataframe[(questions_dataframe['Age'] > 30) & (questions_dataframe['FormalEducation'].isin(['Bachelor’s degree', 'Master’s degree', 'Doctoral degree', 'Professional degree']))]\n",
    "probability = len(both_criteria) / len(questions_dataframe)#calculated the probability\n",
    "\n",
    "print(f\"The joint probability of a respondent being over 30 years old and having at least a bachelors degree is: {probability:.2%}\")\n"
   ]
  },
  {
   "cell_type": "markdown",
   "metadata": {},
   "source": [
    "<span style=\"color:red\">Q2.e:</span> [5 pts] What is the probability that a respondent is a Data Scientist who majored in Computer\n",
    "Science, Mathematics or statistics?"
   ]
  },
  {
   "cell_type": "code",
   "execution_count": 8,
   "metadata": {},
   "outputs": [
    {
     "name": "stdout",
     "output_type": "stream",
     "text": [
      "['DBA/Database Engineer' nan 'Operations Research Practitioner'\n",
      " 'Computer Scientist' 'Data Scientist'\n",
      " 'Software Developer/Software Engineer' 'Business Analyst' 'Engineer'\n",
      " 'Scientist/Researcher' 'Researcher' 'Other' 'Data Analyst'\n",
      " 'Machine Learning Engineer' 'Statistician' 'Predictive Modeler'\n",
      " 'Programmer' 'Data Miner']\n"
     ]
    }
   ],
   "source": [
    "print(questions_dataframe['CurrentJobTitleSelect'].unique()) # i wanted to see job names"
   ]
  },
  {
   "cell_type": "code",
   "execution_count": 9,
   "metadata": {},
   "outputs": [
    {
     "name": "stdout",
     "output_type": "stream",
     "text": [
      "The probability that a respondent is a Data Scientist who majored in Computer Science , Mathematics or Statistics is: 6.32%\n"
     ]
    }
   ],
   "source": [
    "data_scientists = questions_dataframe[questions_dataframe['CurrentJobTitleSelect'] == 'Data Scientist'] #all the data scientists\n",
    "ds_with_wanted_majors = data_scientists[data_scientists['MajorSelect'].isin(['Computer Science', 'Mathematics or statistics'])] #data scientists with the wanted majors\n",
    "probability = len(ds_with_wanted_majors) / len(questions_dataframe) #calculated the probability\n",
    "\n",
    "print(f\"The probability that a respondent is a Data Scientist who majored in Computer Science , Mathematics or Statistics is: {probability:.2%}\")\n"
   ]
  },
  {
   "cell_type": "markdown",
   "metadata": {},
   "source": [
    "<span style=\"color:red\">Q2.f:</span>  [5 pts] What is the joint probability that a respondent is from France, earns less than 100,000\n",
    "USD annually, and uses Cross-Validation Often or Most of the time?"
   ]
  },
  {
   "cell_type": "code",
   "execution_count": 10,
   "metadata": {},
   "outputs": [
    {
     "name": "stdout",
     "output_type": "stream",
     "text": [
      "The joint probability that a respondent is from France, earns less than 100,000 USD annually, and uses Cross-Validation Often or Most of the time is: 0.36%\n"
     ]
    }
   ],
   "source": [
    "users_from_france = merged_dataframe[merged_dataframe['Country'] == 'France'] #since before i merged both dataframes, i directly selected users from france, p(a)\n",
    "users_earns_less = users_from_france[users_from_france['SalaryUSD'] < 100000] #users who earns less than 100 thousand dollars, p(b)\n",
    "\n",
    "#found this class to find users who used cross validation often or most of the time p(c)\n",
    "cross_validation = users_earns_less[users_earns_less['WorkMethodsFrequencyCross-Validation'].isin(['Often', 'Most of the time'])]\n",
    "probability = len(cross_validation) / len(merged_dataframe) #the probability p(c^b^a)\n",
    "\n",
    "print(f\"The joint probability that a respondent is from France, earns less than 100,000 USD annually, and uses Cross-Validation Often or Most of the time is: {probability:.2%}\")\n"
   ]
  },
  {
   "cell_type": "markdown",
   "metadata": {},
   "source": [
    "<span style=\"color:red\">Q2.g:</span>  [10 pts] What is the probability that a respondent uses C/C++ at work given that they are employed\n",
    "as a Programmer? (Hint: Use your findings from Question 2a)."
   ]
  },
  {
   "cell_type": "code",
   "execution_count": 11,
   "metadata": {},
   "outputs": [
    {
     "name": "stdout",
     "output_type": "stream",
     "text": [
      "The probability that a respondent uses C/C++ at work given that they are employed as a Programmer is: 7.36%\n"
     ]
    }
   ],
   "source": [
    "#THE FIRST METHOD (Calculating Again)\n",
    "\n",
    "# users who are employed as programmers:\n",
    "programmers = questions_dataframe[questions_dataframe['CurrentJobTitleSelect'].str.contains('Programmer', na=False)]\n",
    "\n",
    "# from programmers, find users who use c++\n",
    "programmers_using_c = programmers[programmers['WorkToolsSelect'].str.contains('C/C++', na=False)]\n",
    "\n",
    "probability = len(programmers_using_c) / len(programmers)# the probability\n",
    "\n",
    "print(f\"The probability that a respondent uses C/C++ at work given that they are employed as a Programmer is: {probability:.2%}\")\n"
   ]
  },
  {
   "cell_type": "markdown",
   "metadata": {},
   "source": [
    "THE SECOND METHOD (Bayes Theorem)\n",
    "\n",
    "Since from the question 2a, we have\n",
    "\n",
    "P(A) = The probability of a respondent that is currently employed as a Programmer = 0.027\n",
    "\n",
    "P(B) = The probability that they use C/C++ at work = 0.091\n",
    "\n",
    "We calculated: P(A|B) = 0.0223 = 2.23%\n",
    "\n",
    "Here we need to calculate P(B|A) = (P(A|B) x P(B)) / P(A)\n",
    "\n",
    "P(B|A) = (0.0223 x 0.091) / 0.027 = 0,075 = 7.5%\n",
    "\n",
    "We can see that the values are the same (the small difference is because of the decimal points), thus making the Bayes theorem valid.\n"
   ]
  },
  {
   "cell_type": "markdown",
   "metadata": {},
   "source": [
    "<span style=\"color:red\">Q2.h:</span>  [15 pts] Given the probability of a respondent wearing glasses is 0.15, and the probability of a\n",
    "respondent wearing glasses given they have a PhD is 0.25, find the probability of a respondent having a PhD\n",
    "given that they wear glasses."
   ]
  },
  {
   "cell_type": "markdown",
   "metadata": {},
   "source": [
    "P(B)=0.15 (the probability of wearing glasses).\n",
    "\n",
    "P(B|A)=0.25 (the probability of wearing glasses given that the respondent has a PhD).\n",
    "\n",
    "We need to find P(A|B) (the probability of having a PhD given that the respondent wears glasses)."
   ]
  },
  {
   "cell_type": "code",
   "execution_count": 12,
   "metadata": {},
   "outputs": [
    {
     "name": "stdout",
     "output_type": "stream",
     "text": [
      "P(A): 15.63%\n"
     ]
    }
   ],
   "source": [
    "# in this question we need to find the p(A), meaning the probability of having a doctorate.\n",
    "dropped_dataframe = questions_dataframe.dropna(subset=['FormalEducation']) #i started dropping not-applicable's and I prefer not to answer\n",
    "# used shape[] to give the total number of rows (count of doctoral degrees)\n",
    "doctorate_count = dropped_dataframe[dropped_dataframe['FormalEducation'] == 'Doctoral degree'].shape[0]\n",
    "all_count = dropped_dataframe.shape[0] #number of responses\n",
    "\n",
    "# calculated the probability of having a PhD\n",
    "probability_phd = doctorate_count / all_count\n",
    "\n",
    "print(f\"P(A): {probability_phd:.2%}\")\n"
   ]
  },
  {
   "cell_type": "markdown",
   "metadata": {},
   "source": [
    "Since %15.63 is equals to 0.1563, we can plug all the values into the Bayes theorem:"
   ]
  },
  {
   "cell_type": "markdown",
   "metadata": {},
   "source": [
    "P(A|B) = (P(B|A) x P (A)) / P(B) = ((0.25) x (0.1563)) / (0.15) = % 26.05"
   ]
  },
  {
   "cell_type": "markdown",
   "metadata": {},
   "source": [
    "Giving us the result of 0.2605 or %26.05 of the probability of a respondent having a phd given they wear glasses."
   ]
  },
  {
   "cell_type": "markdown",
   "metadata": {},
   "source": [
    "This is the end of the Homework 2 Question 2."
   ]
  }
 ],
 "metadata": {
  "kernelspec": {
   "display_name": "Python 3",
   "language": "python",
   "name": "python3"
  },
  "language_info": {
   "codemirror_mode": {
    "name": "ipython",
    "version": 3
   },
   "file_extension": ".py",
   "mimetype": "text/x-python",
   "name": "python",
   "nbconvert_exporter": "python",
   "pygments_lexer": "ipython3",
   "version": "3.11.6"
  }
 },
 "nbformat": 4,
 "nbformat_minor": 2
}
